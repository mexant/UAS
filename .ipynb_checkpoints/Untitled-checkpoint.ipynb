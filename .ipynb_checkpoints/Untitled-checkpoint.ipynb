{
 "cells": [
  {
   "cell_type": "code",
   "execution_count": null,
   "metadata": {},
   "outputs": [],
   "source": [
    "%%classpath add mvn\n",
    "tech.tablesaw tablesaw-parent 0.37.0\n"
   ]
  },
  {
   "cell_type": "code",
   "execution_count": 20,
   "metadata": {},
   "outputs": [
    {
     "name": "stdout",
     "output_type": "stream",
     "text": [
      "        Structure of 12181641.csv         \n",
      " Index  |  Column Name   |  Column Type  |\n",
      "------------------------------------------\n",
      "     0  |           _id  |      INTEGER  |\n",
      "     1  |           idx  |      INTEGER  |\n",
      "     2  |        series  |       STRING  |\n",
      "     3  |  kode_wilayah  |      INTEGER  |\n",
      "     4  |       wilayah  |       STRING  |\n",
      "     5  |         tahun  |      INTEGER  |\n",
      "     6  |      triwulan  |       STRING  |\n",
      "     7  |         bulan  |       STRING  |\n",
      "     8  |       tanggal  |       STRING  |\n",
      "     9  |         nilai  |       DOUBLE  |\n",
      "    10  |        target  |       STRING  |\n",
      "172 rows X 11 cols\n",
      "                                                                       12181641.csv                                                                       \n",
      " _id  |  idx  |             series             |  kode_wilayah  |     wilayah      |  tahun  |  triwulan  |  bulan  |  tanggal  |    nilai    |  target  |\n",
      "----------------------------------------------------------------------------------------------------------------------------------------------------------\n",
      "   1  |    0  |  Luas Lahan yang Dibakar (Ha)  |             1  |       Indonesia  |   2008  |            |         |           |  1857348.3  |          |\n",
      "   2  |    1  |  Luas Lahan yang Dibakar (Ha)  |            11  |            ACEH  |   2008  |            |         |           |    21402.1  |          |\n",
      "   3  |    2  |  Luas Lahan yang Dibakar (Ha)  |            12  |  SUMATERA UTARA  |   2008  |            |         |           |    15946.8  |          |\n",
      "   4  |    3  |  Luas Lahan yang Dibakar (Ha)  |            13  |  SUMATERA BARAT  |   2008  |            |         |           |     5601.2  |          |\n",
      "   5  |    4  |  Luas Lahan yang Dibakar (Ha)  |            14  |            RIAU  |   2008  |            |         |           |    13729.2  |          |\n",
      "                                                                   12181641.csv                                                                   \n",
      " _id  |  idx  |             series             |  kode_wilayah  |   wilayah    |  tahun  |  triwulan  |  bulan  |  tanggal  |  nilai  |  target  |\n",
      "--------------------------------------------------------------------------------------------------------------------------------------------------\n",
      " 168  |  167  |  Luas Lahan yang Dibakar (Ha)  |          2101  |     KARIMUN  |   2008  |            |         |           |     26  |          |\n",
      " 169  |  168  |  Luas Lahan yang Dibakar (Ha)  |          2102  |      BINTAN  |   2008  |            |         |           |     19  |          |\n",
      " 170  |  169  |  Luas Lahan yang Dibakar (Ha)  |          2103  |      NATUNA  |   2008  |            |         |           |   1375  |          |\n",
      " 171  |  170  |  Luas Lahan yang Dibakar (Ha)  |          2104  |      LINGGA  |   2008  |            |         |           |  183.8  |          |\n",
      " 172  |  171  |  Luas Lahan yang Dibakar (Ha)  |          2171  |  KOTA BATAM  |   2008  |            |         |           |     26  |          |\n",
      "                                                                            12181641.csv                                                                             \n",
      " _id  |  idx  |             series             |  kode_wilayah  |           wilayah           |  tahun  |  triwulan  |  bulan  |  tanggal  |    nilai    |  target  |\n",
      "---------------------------------------------------------------------------------------------------------------------------------------------------------------------\n",
      "   1  |    0  |  Luas Lahan yang Dibakar (Ha)  |             1  |                  Indonesia  |   2008  |            |         |           |  1857348.3  |          |\n",
      "   2  |    1  |  Luas Lahan yang Dibakar (Ha)  |            11  |                       ACEH  |   2008  |            |         |           |    21402.1  |          |\n",
      "   3  |    2  |  Luas Lahan yang Dibakar (Ha)  |            12  |             SUMATERA UTARA  |   2008  |            |         |           |    15946.8  |          |\n",
      "   4  |    3  |  Luas Lahan yang Dibakar (Ha)  |            13  |             SUMATERA BARAT  |   2008  |            |         |           |     5601.2  |          |\n",
      "   5  |    4  |  Luas Lahan yang Dibakar (Ha)  |            14  |                       RIAU  |   2008  |            |         |           |    13729.2  |          |\n",
      "   6  |    5  |  Luas Lahan yang Dibakar (Ha)  |            15  |                      JAMBI  |   2008  |            |         |           |    11264.7  |          |\n",
      "   7  |    6  |  Luas Lahan yang Dibakar (Ha)  |            16  |           SUMATERA SELATAN  |   2008  |            |         |           |    39692.5  |          |\n",
      "   8  |    7  |  Luas Lahan yang Dibakar (Ha)  |            17  |                   BENGKULU  |   2008  |            |         |           |     7676.7  |          |\n",
      "   9  |    8  |  Luas Lahan yang Dibakar (Ha)  |            18  |                    LAMPUNG  |   2008  |            |         |           |    56679.1  |          |\n",
      "  10  |    9  |  Luas Lahan yang Dibakar (Ha)  |            19  |  KEPULAUAN BANGKA BELITUNG  |   2008  |            |         |           |     7790.3  |          |\n",
      " ...  |  ...  |                           ...  |           ...  |                        ...  |    ...  |       ...  |    ...  |      ...  |        ...  |     ...  |\n",
      " 163  |  162  |  Luas Lahan yang Dibakar (Ha)  |          1903  |               BANGKA BARAT  |   2008  |            |         |           |     2545.3  |          |\n",
      " 164  |  163  |  Luas Lahan yang Dibakar (Ha)  |          1904  |              BANGKA TENGAH  |   2008  |            |         |           |       1016  |          |\n",
      " 165  |  164  |  Luas Lahan yang Dibakar (Ha)  |          1905  |             BANGKA SELATAN  |   2008  |            |         |           |       1090  |          |\n",
      " 166  |  165  |  Luas Lahan yang Dibakar (Ha)  |          1906  |             BELITUNG TIMUR  |   2008  |            |         |           |       66.5  |          |\n",
      " 167  |  166  |  Luas Lahan yang Dibakar (Ha)  |          1971  |        KOTA PANGKAL PINANG  |   2008  |            |         |           |             |          |\n",
      " 168  |  167  |  Luas Lahan yang Dibakar (Ha)  |          2101  |                    KARIMUN  |   2008  |            |         |           |         26  |          |\n",
      " 169  |  168  |  Luas Lahan yang Dibakar (Ha)  |          2102  |                     BINTAN  |   2008  |            |         |           |         19  |          |\n",
      " 170  |  169  |  Luas Lahan yang Dibakar (Ha)  |          2103  |                     NATUNA  |   2008  |            |         |           |       1375  |          |\n",
      " 171  |  170  |  Luas Lahan yang Dibakar (Ha)  |          2104  |                     LINGGA  |   2008  |            |         |           |      183.8  |          |\n",
      " 172  |  171  |  Luas Lahan yang Dibakar (Ha)  |          2171  |                 KOTA BATAM  |   2008  |            |         |           |         26  |          |\n"
     ]
    },
    {
     "data": {
      "text/plain": [
       "null"
      ]
     },
     "execution_count": 20,
     "metadata": {},
     "output_type": "execute_result"
    }
   ],
   "source": [
    "//import data 12181641.csv ke dataframe\n",
    "\n",
    "import tech.tablesaw.api.*;\n",
    "\n",
    "tech.tablesaw.beakerx.TablesawDisplayer.register();\n",
    "Table  dfSmallgrade= Table.read().csv(\"12181641.csv\");\n",
    "System.out.println(dfSmallgrade.structure());\n",
    "System.out.println(dfSmallgrade.shape());\n",
    "System.out.println(dfSmallgrade.first(5));\n",
    "System.out.println(dfSmallgrade.last(5));\n",
    "System.out.println(dfSmallgrade.print());"
   ]
  },
  {
   "cell_type": "code",
   "execution_count": 21,
   "metadata": {},
   "outputs": [
    {
     "name": "stdout",
     "output_type": "stream",
     "text": [
      "        Structure of 12181641.json        \n",
      " Index  |  Column Name   |  Column Type  |\n",
      "------------------------------------------\n",
      "     0  |  kode_wilayah  |      INTEGER  |\n",
      "     1  |         tahun  |      INTEGER  |\n",
      "     2  |        series  |       STRING  |\n",
      "     3  |         nilai  |       DOUBLE  |\n",
      "     4  |           _id  |      INTEGER  |\n",
      "     5  |       wilayah  |       STRING  |\n",
      "     6  |       tanggal  |       STRING  |\n",
      "     7  |           idx  |      INTEGER  |\n",
      "     8  |         bulan  |       STRING  |\n",
      "     9  |      triwulan  |       STRING  |\n",
      "    10  |        target  |       STRING  |\n",
      "                                                                        12181641.json                                                                        \n",
      " kode_wilayah  |  tahun  |             series             |  nilai   |  _id  |        wilayah         |  tanggal  |  idx  |  bulan  |  triwulan  |  target  |\n",
      "-------------------------------------------------------------------------------------------------------------------------------------------------------------\n",
      "         2172  |   2008  |  Luas Lahan yang Dibakar (Ha)  |          |  173  |   KOTA TANJUNG PINANG  |           |  172  |         |            |          |\n",
      "         3101  |   2008  |  Luas Lahan yang Dibakar (Ha)  |          |  174  |      KEPULAUAN SERIBU  |           |  173  |         |            |          |\n",
      "         3171  |   2008  |  Luas Lahan yang Dibakar (Ha)  |          |  175  |  KOTA JAKARTA SELATAN  |           |  174  |         |            |          |\n",
      "         3172  |   2008  |  Luas Lahan yang Dibakar (Ha)  |          |  176  |    KOTA JAKARTA TIMUR  |           |  175  |         |            |          |\n",
      "         3173  |   2008  |  Luas Lahan yang Dibakar (Ha)  |          |  177  |    KOTA JAKARTA PUSAT  |           |  176  |         |            |          |\n",
      "         3174  |   2008  |  Luas Lahan yang Dibakar (Ha)  |          |  178  |    KOTA JAKARTA BARAT  |           |  177  |         |            |          |\n",
      "         3175  |   2008  |  Luas Lahan yang Dibakar (Ha)  |          |  179  |    KOTA JAKARTA UTARA  |           |  178  |         |            |          |\n",
      "         3201  |   2008  |  Luas Lahan yang Dibakar (Ha)  |   208.8  |  180  |                 BOGOR  |           |  179  |         |            |          |\n",
      "         3202  |   2008  |  Luas Lahan yang Dibakar (Ha)  |   348.2  |  181  |              SUKABUMI  |           |  180  |         |            |          |\n",
      "         3203  |   2008  |  Luas Lahan yang Dibakar (Ha)  |  2212.6  |  182  |               CIANJUR  |           |  181  |         |            |          |\n",
      "          ...  |    ...  |                           ...  |     ...  |  ...  |                   ...  |      ...  |  ...  |    ...  |       ...  |     ...  |\n",
      "         6471  |   2008  |  Luas Lahan yang Dibakar (Ha)  |    37.6  |  380  |       KOTA BALIKPAPAN  |           |  379  |         |            |          |\n",
      "         6472  |   2008  |  Luas Lahan yang Dibakar (Ha)  |          |  381  |        KOTA SAMARINDA  |           |  380  |         |            |          |\n",
      "         6473  |   2008  |  Luas Lahan yang Dibakar (Ha)  |    30.9  |  382  |          KOTA TARAKAN  |           |  381  |         |            |          |\n",
      "         6474  |   2008  |  Luas Lahan yang Dibakar (Ha)  |          |  383  |          KOTA BONTANG  |           |  382  |         |            |          |\n",
      "         7101  |   2008  |  Luas Lahan yang Dibakar (Ha)  |  1413.2  |  384  |     BOLAANG MONGONDOW  |           |  383  |         |            |          |\n",
      "         7102  |   2008  |  Luas Lahan yang Dibakar (Ha)  |     154  |  385  |              MINAHASA  |           |  384  |         |            |          |\n",
      "         7103  |   2008  |  Luas Lahan yang Dibakar (Ha)  |   151.6  |  386  |     KEPULAUAN SANGIHE  |           |  385  |         |            |          |\n",
      "         7104  |   2008  |  Luas Lahan yang Dibakar (Ha)  |   370.3  |  387  |      KEPULAUAN TALAUD  |           |  386  |         |            |          |\n",
      "         7105  |   2008  |  Luas Lahan yang Dibakar (Ha)  |   175.5  |  388  |      MINAHASA SELATAN  |           |  387  |         |            |          |\n",
      "         7106  |   2008  |  Luas Lahan yang Dibakar (Ha)  |  1006.3  |  389  |        MINAHASA UTARA  |           |  388  |         |            |          |\n"
     ]
    },
    {
     "data": {
      "text/plain": [
       "null"
      ]
     },
     "execution_count": 21,
     "metadata": {},
     "output_type": "execute_result"
    }
   ],
   "source": [
    "//import data 12181641.json ke dataframe\n",
    "\n",
    "import tech.tablesaw.api.*;\n",
    "import tech.tablesaw.io.json.*;\n",
    "\n",
    "tech.tablesaw.beakerx.TablesawDisplayer.register();\n",
    "JsonReader reader = new JsonReader();\n",
    "JsonReadOptions fileJSON = JsonReadOptions.builder(\"12181641.json\").build();\n",
    "Table tabeljson = reader.read(fileJSON);\n",
    "System.out.println(tabeljson.structure());\n",
    "System.out.println(tabeljson.print());\n",
    "\n",
    "//export data 12181641.json ke lahandibakar.csv\n",
    "tabeljson.write().csv(\"lahandibakar.csv\");"
   ]
  },
  {
   "cell_type": "code",
   "execution_count": 22,
   "metadata": {},
   "outputs": [
    {
     "name": "stdout",
     "output_type": "stream",
     "text": [
      "                                                                            12181641.csv                                                                             \r\n",
      " _id  |  idx  |             series             |  kode_wilayah  |           wilayah           |  tahun  |  triwulan  |  bulan  |  tanggal  |    nilai    |  target  |\r\n",
      "---------------------------------------------------------------------------------------------------------------------------------------------------------------------\r\n",
      "   1  |    0  |  Luas Lahan yang Dibakar (Ha)  |             1  |                  Indonesia  |   2008  |            |         |           |  1857348.3  |          |\r\n",
      "   2  |    1  |  Luas Lahan yang Dibakar (Ha)  |            11  |                       ACEH  |   2008  |            |         |           |    21402.1  |          |\r\n",
      "   3  |    2  |  Luas Lahan yang Dibakar (Ha)  |            12  |             SUMATERA UTARA  |   2008  |            |         |           |    15946.8  |          |\r\n",
      "   4  |    3  |  Luas Lahan yang Dibakar (Ha)  |            13  |             SUMATERA BARAT  |   2008  |            |         |           |     5601.2  |          |\r\n",
      "   5  |    4  |  Luas Lahan yang Dibakar (Ha)  |            14  |                       RIAU  |   2008  |            |         |           |    13729.2  |          |\r\n",
      "   6  |    5  |  Luas Lahan yang Dibakar (Ha)  |            15  |                      JAMBI  |   2008  |            |         |           |    11264.7  |          |\r\n",
      "   7  |    6  |  Luas Lahan yang Dibakar (Ha)  |            16  |           SUMATERA SELATAN  |   2008  |            |         |           |    39692.5  |          |\r\n",
      "   8  |    7  |  Luas Lahan yang Dibakar (Ha)  |            17  |                   BENGKULU  |   2008  |            |         |           |     7676.7  |          |\r\n",
      "   9  |    8  |  Luas Lahan yang Dibakar (Ha)  |            18  |                    LAMPUNG  |   2008  |            |         |           |    56679.1  |          |\r\n",
      "  10  |    9  |  Luas Lahan yang Dibakar (Ha)  |            19  |  KEPULAUAN BANGKA BELITUNG  |   2008  |            |         |           |     7790.3  |          |\r\n",
      " ...  |  ...  |                           ...  |           ...  |                        ...  |    ...  |       ...  |    ...  |      ...  |        ...  |     ...  |\r\n",
      " 380  |  379  |  Luas Lahan yang Dibakar (Ha)  |          6471  |            KOTA BALIKPAPAN  |   2008  |            |         |           |       37.6  |          |\r\n",
      " 381  |  380  |  Luas Lahan yang Dibakar (Ha)  |          6472  |             KOTA SAMARINDA  |   2008  |            |         |           |             |          |\r\n",
      " 382  |  381  |  Luas Lahan yang Dibakar (Ha)  |          6473  |               KOTA TARAKAN  |   2008  |            |         |           |       30.9  |          |\r\n",
      " 383  |  382  |  Luas Lahan yang Dibakar (Ha)  |          6474  |               KOTA BONTANG  |   2008  |            |         |           |             |          |\r\n",
      " 384  |  383  |  Luas Lahan yang Dibakar (Ha)  |          7101  |          BOLAANG MONGONDOW  |   2008  |            |         |           |     1413.2  |          |\r\n",
      " 385  |  384  |  Luas Lahan yang Dibakar (Ha)  |          7102  |                   MINAHASA  |   2008  |            |         |           |        154  |          |\r\n",
      " 386  |  385  |  Luas Lahan yang Dibakar (Ha)  |          7103  |          KEPULAUAN SANGIHE  |   2008  |            |         |           |      151.6  |          |\r\n",
      " 387  |  386  |  Luas Lahan yang Dibakar (Ha)  |          7104  |           KEPULAUAN TALAUD  |   2008  |            |         |           |      370.3  |          |\r\n",
      " 388  |  387  |  Luas Lahan yang Dibakar (Ha)  |          7105  |           MINAHASA SELATAN  |   2008  |            |         |           |      175.5  |          |\r\n",
      " 389  |  388  |  Luas Lahan yang Dibakar (Ha)  |          7106  |             MINAHASA UTARA  |   2008  |            |         |           |     1006.3  |          |"
     ]
    },
    {
     "data": {
      "text/plain": [
       "null"
      ]
     },
     "execution_count": 22,
     "metadata": {},
     "output_type": "execute_result"
    }
   ],
   "source": [
    "//soal no.1 menggabungkan data 12181641.csv dan 12181641.json\n",
    "\n",
    "import static tech.tablesaw.aggregate.AggregateFunctions.*;\n",
    "import tech.tablesaw.api.*;\n",
    "\n",
    "tech.tablesaw.beakerx.TablesawDisplayer.register();\n",
    "Table  data1= Table.read().csv(\"12181641.csv\");\n",
    "Table  data2= Table.read().csv(\"lahandibakar.csv\");\n",
    "\n",
    "Table datagabung = data1.append(data2);\n",
    "System.out.print(datagabung.print());\n",
    "\n",
    "//export dataframe datagabung ke fulllahandibakar.csv\n",
    "datagabung.write().csv(\"lahandibakarfull.csv\");\n"
   ]
  },
  {
   "cell_type": "code",
   "execution_count": 23,
   "metadata": {},
   "outputs": [
    {
     "name": "stdout",
     "output_type": "stream",
     "text": [
      "                                                                        lahandibakarfull.csv                                                                         \n",
      " _id  |  idx  |             series             |  kode_wilayah  |           wilayah           |  tahun  |  triwulan  |  bulan  |  tanggal  |    nilai    |  target  |\n",
      "---------------------------------------------------------------------------------------------------------------------------------------------------------------------\n",
      "   1  |    0  |  Luas Lahan yang Dibakar (Ha)  |             1  |                  Indonesia  |   2008  |            |         |           |  1857348.3  |          |\n",
      "   2  |    1  |  Luas Lahan yang Dibakar (Ha)  |            11  |                       ACEH  |   2008  |            |         |           |    21402.1  |          |\n",
      "   3  |    2  |  Luas Lahan yang Dibakar (Ha)  |            12  |             SUMATERA UTARA  |   2008  |            |         |           |    15946.8  |          |\n",
      "   4  |    3  |  Luas Lahan yang Dibakar (Ha)  |            13  |             SUMATERA BARAT  |   2008  |            |         |           |     5601.2  |          |\n",
      "   5  |    4  |  Luas Lahan yang Dibakar (Ha)  |            14  |                       RIAU  |   2008  |            |         |           |    13729.2  |          |\n",
      "   6  |    5  |  Luas Lahan yang Dibakar (Ha)  |            15  |                      JAMBI  |   2008  |            |         |           |    11264.7  |          |\n",
      "   7  |    6  |  Luas Lahan yang Dibakar (Ha)  |            16  |           SUMATERA SELATAN  |   2008  |            |         |           |    39692.5  |          |\n",
      "   8  |    7  |  Luas Lahan yang Dibakar (Ha)  |            17  |                   BENGKULU  |   2008  |            |         |           |     7676.7  |          |\n",
      "   9  |    8  |  Luas Lahan yang Dibakar (Ha)  |            18  |                    LAMPUNG  |   2008  |            |         |           |    56679.1  |          |\n",
      "  10  |    9  |  Luas Lahan yang Dibakar (Ha)  |            19  |  KEPULAUAN BANGKA BELITUNG  |   2008  |            |         |           |     7790.3  |          |\n",
      " ...  |  ...  |                           ...  |           ...  |                        ...  |    ...  |       ...  |    ...  |      ...  |        ...  |     ...  |\n",
      " 380  |  379  |  Luas Lahan yang Dibakar (Ha)  |          6471  |            KOTA BALIKPAPAN  |   2008  |            |         |           |       37.6  |          |\n",
      " 381  |  380  |  Luas Lahan yang Dibakar (Ha)  |          6472  |             KOTA SAMARINDA  |   2008  |            |         |           |             |          |\n",
      " 382  |  381  |  Luas Lahan yang Dibakar (Ha)  |          6473  |               KOTA TARAKAN  |   2008  |            |         |           |       30.9  |          |\n",
      " 383  |  382  |  Luas Lahan yang Dibakar (Ha)  |          6474  |               KOTA BONTANG  |   2008  |            |         |           |             |          |\n",
      " 384  |  383  |  Luas Lahan yang Dibakar (Ha)  |          7101  |          BOLAANG MONGONDOW  |   2008  |            |         |           |     1413.2  |          |\n",
      " 385  |  384  |  Luas Lahan yang Dibakar (Ha)  |          7102  |                   MINAHASA  |   2008  |            |         |           |        154  |          |\n",
      " 386  |  385  |  Luas Lahan yang Dibakar (Ha)  |          7103  |          KEPULAUAN SANGIHE  |   2008  |            |         |           |      151.6  |          |\n",
      " 387  |  386  |  Luas Lahan yang Dibakar (Ha)  |          7104  |           KEPULAUAN TALAUD  |   2008  |            |         |           |      370.3  |          |\n",
      " 388  |  387  |  Luas Lahan yang Dibakar (Ha)  |          7105  |           MINAHASA SELATAN  |   2008  |            |         |           |      175.5  |          |\n",
      " 389  |  388  |  Luas Lahan yang Dibakar (Ha)  |          7106  |             MINAHASA UTARA  |   2008  |            |         |           |     1006.3  |          |\n",
      "\n",
      "lahandibakarfull.csv summary\n",
      " Count [nilai]  |\n",
      "-----------------\n",
      "           304  |\n",
      "\n",
      "lahandibakarfull.csv summary\n",
      " Sum [nilai]  |\n",
      "---------------\n",
      "   5479717.6  |\n",
      "\n",
      "lahandibakarfull.csv summary\n",
      " Max [nilai]  |\n",
      "---------------\n",
      "   1857348.3  |\n",
      "\n",
      "lahandibakarfull.csv summary\n",
      " Min [nilai]  |\n",
      "---------------\n",
      "         0.3  |\n",
      "\n",
      "lahandibakarfull.csv summary\n",
      " Median [nilai]  |\n",
      "------------------\n",
      "          696.8  |\n",
      "\n",
      "lahandibakarfull.csv summary\n",
      " Std. Deviation [nilai]  |\n",
      "--------------------------\n",
      "       143475.317048432  |\n",
      "\n",
      "lahandibakarfull.csv summary\n",
      "  Variance [nilai]   |\n",
      "----------------------\n",
      " 20585166602.148083  |\n",
      "\n",
      "lahandibakarfull.csv summary\n",
      " Range [nilai]  |\n",
      "-----------------\n",
      "       1857348  |\n",
      "\n",
      "                                                                         lahandibakarfull.csv summary                                                                          \n",
      " Count [nilai]  |  Sum [nilai]  |  Max [nilai]  |  Min [nilai]  |     Mean [nilai]     |  Range [nilai]  |  Median [nilai]  |   Variance [nilai]   |  Std. Deviation [nilai]  |\n",
      "-------------------------------------------------------------------------------------------------------------------------------------------------------------------------------\n",
      "           304  |    5479717.6  |    1857348.3  |          0.3  |  18025.386842105272  |        1857348  |           696.8  |  20585166602.148083  |        143475.317048432  |\n",
      "\n",
      "      Column: nilai       \n",
      " Measure   |    Value    |\n",
      "--------------------------\n",
      "        n  |        389  |\n",
      "      sum  |             |\n",
      "     Mean  |             |\n",
      "      Min  |        0.3  |\n",
      "      Max  |  1857348.3  |\n",
      "    Range  |    1857348  |\n",
      " Variance  |             |\n",
      " Std. Dev  |             |\n",
      "\n"
     ]
    },
    {
     "data": {
      "text/plain": [
       "null"
      ]
     },
     "execution_count": 23,
     "metadata": {},
     "output_type": "execute_result"
    }
   ],
   "source": [
    "//Soal no 2. Analisis Data\n",
    "\n",
    "import static tech.tablesaw.aggregate.AggregateFunctions.*;\n",
    "import tech.tablesaw.api.*;\n",
    "\n",
    "tech.tablesaw.beakerx.TablesawDisplayer.register();\n",
    "Table  dataFull= Table.read().csv(\"lahandibakarfull.csv\");\n",
    "\n",
    "System.out.println(dataFull.print());\n",
    "System.out.println();\n",
    "\n",
    "//menampilkan jumlah baris yang ada di dataframe pada kolom \"Pendapatan\"\n",
    "System.out.println(dataFull.summarize(\"nilai\", count).apply());\n",
    "System.out.println();\n",
    "\n",
    "//menampilkan jumlah total yang ada di dataframe pada kolom \"Pendapatan\"\n",
    "System.out.println(dataFull.summarize(\"nilai\", sum).apply());\n",
    "System.out.println();\n",
    "\n",
    "//menampilkan data terbesar yang ada di dataframe pada kolom \"Pendapatan\"\n",
    "System.out.println(dataFull.summarize(\"nilai\", max).apply());\n",
    "System.out.println();\n",
    "\n",
    "//menampilkan data terkecil yang ada di dataframe pada kolom \"Pendapatan\"\n",
    "System.out.println(dataFull.summarize(\"nilai\", min).apply());\n",
    "System.out.println();\n",
    "\n",
    "//menampilkan nilai tengah yang ada di dataframe pada kolom \"Pendapatan\"\n",
    "System.out.println(dataFull.summarize(\"nilai\", median).apply());\n",
    "System.out.println();\n",
    "\n",
    "//menampilkan nilai simpangan baku yang ada di dataframe pada kolom \"Pendapatan\"\n",
    "System.out.println(dataFull.summarize(\"nilai\", standardDeviation).apply());\n",
    "System.out.println();\n",
    "\n",
    "//menampilkan nilai variance yang ada di dataframe pada kolom \"Pendapatan\"\n",
    "System.out.println(dataFull.summarize(\"nilai\", variance).apply());\n",
    "System.out.println();\n",
    "\n",
    "//menampilkan sebaran nilai range yang ada di dataframe pada kolom \"Pendapatan\"\n",
    "System.out.println(dataFull.summarize(\"nilai\", range).apply());\n",
    "System.out.println();\n",
    "\n",
    "\n",
    "//menampilkan seluruh summary yang ada di dataframe pada kolom \"Pendapatan\"\n",
    "System.out.println(dataFull.summarize(\"nilai\", count, sum, max, min, mean, range, median, variance, standardDeviation).apply());\n",
    "System.out.println();\n",
    "\n",
    "//menampilkan seluruh summary yang ada di dataframe\n",
    "System.out.println(dataFull.column(\"nilai\").summary().print());\n",
    "System.out.println();"
   ]
  },
  {
   "cell_type": "code",
   "execution_count": 25,
   "metadata": {},
   "outputs": [
    {
     "data": {
      "text/html": [
       "<html></html>"
      ]
     },
     "execution_count": 25,
     "metadata": {},
     "output_type": "execute_result"
    }
   ],
   "source": [
    "//renderhtml\n",
    "%%html"
   ]
  },
  {
   "cell_type": "code",
   "execution_count": 27,
   "metadata": {},
   "outputs": [
    {
     "data": {
      "text/plain": [
       "null"
      ]
     },
     "execution_count": 27,
     "metadata": {},
     "output_type": "execute_result"
    }
   ],
   "source": [
    "import tech.tablesaw.api.Table;\n",
    "import tech.tablesaw.plotly.Plot;\n",
    "import tech.tablesaw.plotly.components.Figure;\n",
    "import tech.tablesaw.plotly.components.Layout;\n",
    "import tech.tablesaw.plotly.traces.HistogramTrace;\n",
    "\n",
    "\n",
    "    Table dataFull = Table.read().csv(\"lahandibakarfull.csv\");\n",
    "\n",
    "    Layout layout = Layout.builder().title(\"Nilai Pembakaran Lahan pada Wilayah\").build();\n",
    "\n",
    "    HistogramTrace trace = HistogramTrace.builder((dataFull.nCol(\"nilai\")),(dataFull.nCol(\"wilayah\"))).build();\n",
    "\n",
    "    Plot.show(new Figure(layout, trace));"
   ]
  },
  {
   "cell_type": "code",
   "execution_count": 32,
   "metadata": {},
   "outputs": [
    {
     "data": {
      "text/plain": [
       "null"
      ]
     },
     "execution_count": 32,
     "metadata": {},
     "output_type": "execute_result"
    }
   ],
   "source": [
    "import tech.tablesaw.api.Table;\n",
    "import tech.tablesaw.plotly.Plot;\n",
    "import tech.tablesaw.plotly.components.Figure;\n",
    "import tech.tablesaw.plotly.components.Layout;\n",
    "import tech.tablesaw.plotly.traces.BarTrace;\n",
    "\n",
    "Object[] x = {\"sheep\", \"cows\", \"fish\", \"tree sloths\"};\n",
    "double[] y = {1, 4, 9, 16};\n",
    "\n",
    "BarTrace trace = BarTrace.builder(x, y).build();\n",
    "Plot.show(new Figure(trace));"
   ]
  },
  {
   "cell_type": "code",
   "execution_count": null,
   "metadata": {},
   "outputs": [],
   "source": []
  }
 ],
 "metadata": {
  "kernelspec": {
   "display_name": "Java",
   "language": "java",
   "name": "java"
  },
  "language_info": {
   "codemirror_mode": "text/x-java",
   "file_extension": ".java",
   "mimetype": "",
   "name": "Java",
   "nbconverter_exporter": "",
   "version": "1.8.0_121"
  },
  "toc": {
   "base_numbering": 1,
   "nav_menu": {},
   "number_sections": false,
   "sideBar": false,
   "skip_h1_title": false,
   "title_cell": "Table of Contents",
   "title_sidebar": "Contents",
   "toc_cell": false,
   "toc_position": {},
   "toc_section_display": false,
   "toc_window_display": false
  }
 },
 "nbformat": 4,
 "nbformat_minor": 2
}
